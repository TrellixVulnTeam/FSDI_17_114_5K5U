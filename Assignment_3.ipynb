{
 "cells": [
  {
   "cell_type": "markdown",
   "id": "4af44a57",
   "metadata": {},
   "source": [
    "## Coding challenges\n",
    "### 1. Implement a stack: Create a class named \"Stack\" that allows you to:\n",
    "> a. Check if it is empty\n",
    "\n",
    "> b. Push a new item\n",
    "\n",
    "> c. Pop an item\n",
    "\n",
    "> d. Peek at the top item\n",
    "\n",
    "> e. Return the size\n",
    "\n",
    "### 2. Implement a queue: Create a class named \"Queue\" that allows you to:\n",
    "> a. Check if the queue is empty\n",
    "\n",
    "> b. Enqueue\n",
    "\n",
    "> c. Dequeue\n",
    "\n",
    "> d. Return the size of the queue"
   ]
  },
  {
   "cell_type": "code",
   "execution_count": null,
   "id": "df95f391",
   "metadata": {},
   "outputs": [],
   "source": [
    "class Stack:\n",
    "    def __init__(self):\n",
    "        self.items = []\n",
    "    def is_empty(self):\n",
    "        return self.items == []\n",
    "    def push(self, item):\n",
    "        self.items.append(item)\n",
    "    def pop(self):\n",
    "        return self.items.pop()\n",
    "    def peek(self):\n",
    "        return self.items[len(self.items)-1]\n",
    "    def size(self):\n",
    "        return len(self.items)"
   ]
  },
  {
   "cell_type": "code",
   "execution_count": 1,
   "id": "af09d708",
   "metadata": {},
   "outputs": [],
   "source": [
    "class Queue:\n",
    "    def __init__(self):\n",
    "        self.items = []\n",
    "        \n",
    "    def is_empty(self):\n",
    "        return self.items == []\n",
    "    \n",
    "    def push(self, item):\n",
    "        self.items.append(item)\n",
    "        \n",
    "    def pop(self):\n",
    "        if self.is_empty():\n",
    "            return None\n",
    "        return self.items.pop(0)\n",
    "        \n",
    "    def peek(self):\n",
    "        if self.is_empty():\n",
    "            return None\n",
    "        return self.items[0]\n",
    "    \n",
    "    def size(self):\n",
    "        return len(self.items)"
   ]
  },
  {
   "cell_type": "code",
   "execution_count": 8,
   "id": "f63aa998",
   "metadata": {},
   "outputs": [],
   "source": [
    "def test_queue():\n",
    "    queue = Queue()\n",
    "    queue.push(\"S\")\n",
    "    queue.push(\"D\")\n",
    "    queue.push(\"G\")\n",
    "    queue.push(\"K\")\n",
    "    queue.push(\"U\")\n",
    "    print(\"S == \" + queue.pop())\n",
    "    print(\"D == \" + queue.pop())\n",
    "    print(\"G == \" + queue.pop())\n",
    "    print(\"K == \" + queue.pop())\n",
    "    print(\"U == \" + queue.pop())\n",
    "    print(\"None == \" + str(queue.pop()))\n"
   ]
  },
  {
   "cell_type": "code",
   "execution_count": 9,
   "id": "b9654aa9",
   "metadata": {},
   "outputs": [
    {
     "name": "stdout",
     "output_type": "stream",
     "text": [
      "S == S\n",
      "D == D\n",
      "G == G\n",
      "K == K\n",
      "U == U\n",
      "None == None\n"
     ]
    }
   ],
   "source": [
    "test_queue()"
   ]
  },
  {
   "cell_type": "code",
   "execution_count": 10,
   "id": "192ee069",
   "metadata": {},
   "outputs": [],
   "source": [
    "from string import ascii_lowercase\n",
    "from random import randint, choice\n",
    "from time import sleep\n",
    "\n",
    "def register_visitor(visitor_queue):\n",
    "    for char in ascii_lowercase:\n",
    "        visitor_queue.push(char)\n",
    "    \n",
    "def service_customers(visitor_queue):\n",
    "    bank_tellers = [\"A\", 'B', 'C', 'D', 'E', 'F', 'G']\n",
    "    while not visitor_queue.is_empty():\n",
    "        visitor = visitor_queue.pop()\n",
    "        print(f\"Thank you for waiting {visitor}, station {choice(bank_tellers)} is ready for you.\")\n",
    "        sleep(randint(1,2))\n",
    "    print(\"Empty visitor queue.\")\n",
    "    \n",
    "def main():\n",
    "    visistor_queue = Queue()\n",
    "    register_visitor(visistor_queue)\n",
    "    service_customers(visistor_queue)       "
   ]
  },
  {
   "cell_type": "code",
   "execution_count": 11,
   "id": "b57f2222",
   "metadata": {},
   "outputs": [
    {
     "name": "stdout",
     "output_type": "stream",
     "text": [
      "Thank you for waiting a, station A is ready for you.\n",
      "Thank you for waiting b, station G is ready for you.\n",
      "Thank you for waiting c, station G is ready for you.\n",
      "Thank you for waiting d, station F is ready for you.\n",
      "Thank you for waiting e, station B is ready for you.\n",
      "Thank you for waiting f, station F is ready for you.\n",
      "Thank you for waiting g, station G is ready for you.\n",
      "Thank you for waiting h, station F is ready for you.\n",
      "Thank you for waiting i, station E is ready for you.\n",
      "Thank you for waiting j, station D is ready for you.\n",
      "Thank you for waiting k, station F is ready for you.\n",
      "Thank you for waiting l, station B is ready for you.\n",
      "Thank you for waiting m, station B is ready for you.\n",
      "Thank you for waiting n, station B is ready for you.\n",
      "Thank you for waiting o, station F is ready for you.\n",
      "Thank you for waiting p, station D is ready for you.\n",
      "Thank you for waiting q, station D is ready for you.\n",
      "Thank you for waiting r, station B is ready for you.\n",
      "Thank you for waiting s, station G is ready for you.\n",
      "Thank you for waiting t, station C is ready for you.\n",
      "Thank you for waiting u, station G is ready for you.\n",
      "Thank you for waiting v, station D is ready for you.\n",
      "Thank you for waiting w, station B is ready for you.\n",
      "Thank you for waiting x, station G is ready for you.\n",
      "Thank you for waiting y, station G is ready for you.\n",
      "Thank you for waiting z, station A is ready for you.\n",
      "Empty visitor queue.\n"
     ]
    }
   ],
   "source": [
    "main()"
   ]
  },
  {
   "cell_type": "code",
   "execution_count": null,
   "id": "33be1410",
   "metadata": {},
   "outputs": [],
   "source": []
  }
 ],
 "metadata": {
  "kernelspec": {
   "display_name": "Python 3",
   "language": "python",
   "name": "python3"
  },
  "language_info": {
   "codemirror_mode": {
    "name": "ipython",
    "version": 3
   },
   "file_extension": ".py",
   "mimetype": "text/x-python",
   "name": "python",
   "nbconvert_exporter": "python",
   "pygments_lexer": "ipython3",
   "version": "3.7.3"
  }
 },
 "nbformat": 4,
 "nbformat_minor": 5
}
