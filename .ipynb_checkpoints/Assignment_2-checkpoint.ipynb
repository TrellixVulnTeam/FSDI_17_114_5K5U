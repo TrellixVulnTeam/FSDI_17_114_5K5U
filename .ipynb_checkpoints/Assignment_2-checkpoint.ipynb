{
 "cells": [
  {
   "cell_type": "markdown",
   "id": "b387fe77",
   "metadata": {},
   "source": [
    "# Coding challenges\n",
    "\n",
    "### Solve the following coding challenges:\n",
    "\n",
    "> 1. Given a string, write a function that uses recursion to reverse it.\n",
    "\n",
    "> 2. Given a list of integers, write a function that will return a list, in which for each index the element will be the product of all the integers except for the element at that index.\n",
    "\n",
    "For example, an input of [1, 2, 3, 4] would return [24, 12, 8, 6] by performing [2x3x4, 1x3x4, 1x2x4, 1x2x3].\n",
    "\n",
    "#### You cannot use division in your answer! Meaning you can't simply multiply all the numbers and then divide by each element for each index!"
   ]
  },
  {
   "cell_type": "code",
   "execution_count": 10,
   "id": "ec940adf",
   "metadata": {},
   "outputs": [],
   "source": [
    "class Stack:\n",
    "    def __init__(self):\n",
    "        self.items = []\n",
    "        \n",
    "    def is_empty(self):\n",
    "        return self.items == []\n",
    "    \n",
    "    def push(self, item):\n",
    "        self.items.append(item)\n",
    "        \n",
    "    def pop(self):\n",
    "        return self.items.pop()\n",
    "        \n",
    "    def peek(self):\n",
    "        return self.items[len(self.items) - 1]\n",
    "    \n",
    "    def size(self):\n",
    "        return len(self.items)"
   ]
  },
  {
   "cell_type": "code",
   "execution_count": 27,
   "id": "48fe972b",
   "metadata": {},
   "outputs": [],
   "source": [
    "def reverse_string(string):\n",
    "    stack = Stack()\n",
    "    for character in string:\n",
    "        stack.push(character)\n",
    "    \n",
    "    collector = \"\"\n",
    "    while not stack.is_empty():\n",
    "        collector += stack.pop()\n",
    "        \n",
    "    print(\"Reverse of first string: \" + collector)\n",
    "    return collector\n",
    "\n",
    "def test_reverse(str1, str2):\n",
    "    return reverse_string(str1) == str2"
   ]
  },
  {
   "cell_type": "code",
   "execution_count": 28,
   "id": "50de2e58",
   "metadata": {},
   "outputs": [
    {
     "name": "stdout",
     "output_type": "stream",
     "text": [
      "Reverse of first string: racecar\n"
     ]
    },
    {
     "data": {
      "text/plain": [
       "True"
      ]
     },
     "execution_count": 28,
     "metadata": {},
     "output_type": "execute_result"
    }
   ],
   "source": [
    "test_reverse(\"racecar\", \"racecar\")"
   ]
  },
  {
   "cell_type": "code",
   "execution_count": 29,
   "id": "2863bde5",
   "metadata": {},
   "outputs": [
    {
     "name": "stdout",
     "output_type": "stream",
     "text": [
      "Reverse of first string: UKGDS\n"
     ]
    },
    {
     "data": {
      "text/plain": [
       "True"
      ]
     },
     "execution_count": 29,
     "metadata": {},
     "output_type": "execute_result"
    }
   ],
   "source": [
    "test_reverse(\"SDGKU\", \"UKGDS\")"
   ]
  },
  {
   "cell_type": "code",
   "execution_count": 31,
   "id": "0cf85fa4",
   "metadata": {},
   "outputs": [
    {
     "name": "stdout",
     "output_type": "stream",
     "text": [
      "Reverse of first string: UKGDS\n"
     ]
    },
    {
     "data": {
      "text/plain": [
       "False"
      ]
     },
     "execution_count": 31,
     "metadata": {},
     "output_type": "execute_result"
    }
   ],
   "source": [
    "test_reverse(\"SDGKU\", \"UKGDsfgfsdfS\")"
   ]
  },
  {
   "cell_type": "code",
   "execution_count": 24,
   "id": "5e533d14",
   "metadata": {},
   "outputs": [
    {
     "name": "stdout",
     "output_type": "stream",
     "text": [
      "Reverse of first string: gnop gnip\n"
     ]
    },
    {
     "data": {
      "text/plain": [
       "True"
      ]
     },
     "execution_count": 24,
     "metadata": {},
     "output_type": "execute_result"
    }
   ],
   "source": [
    "test_reverse(\"ping pong\",\"gnop gnip\")"
   ]
  },
  {
   "cell_type": "code",
   "execution_count": 25,
   "id": "d6be1fc6",
   "metadata": {},
   "outputs": [
    {
     "name": "stdout",
     "output_type": "stream",
     "text": [
      "Reverse of first string: shtgnerts\n"
     ]
    },
    {
     "data": {
      "text/plain": [
       "True"
      ]
     },
     "execution_count": 25,
     "metadata": {},
     "output_type": "execute_result"
    }
   ],
   "source": [
    "test_reverse(\"strengths\", \"shtgnerts\" )"
   ]
  },
  {
   "cell_type": "code",
   "execution_count": null,
   "id": "f638ca3a",
   "metadata": {},
   "outputs": [],
   "source": []
  }
 ],
 "metadata": {
  "kernelspec": {
   "display_name": "Python 3",
   "language": "python",
   "name": "python3"
  },
  "language_info": {
   "codemirror_mode": {
    "name": "ipython",
    "version": 3
   },
   "file_extension": ".py",
   "mimetype": "text/x-python",
   "name": "python",
   "nbconvert_exporter": "python",
   "pygments_lexer": "ipython3",
   "version": "3.7.3"
  }
 },
 "nbformat": 4,
 "nbformat_minor": 5
}
