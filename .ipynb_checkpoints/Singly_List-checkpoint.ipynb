{
 "cells": [
  {
   "cell_type": "code",
   "execution_count": null,
   "id": "fdf6f77a",
   "metadata": {},
   "outputs": [],
   "source": [
    "class Node:\n",
    "    def __init__(self, data):\n",
    "        self.data = data\n",
    "        self.next = None\n",
    "        \n"
   ]
  },
  {
   "cell_type": "code",
   "execution_count": null,
   "id": "11755d8f",
   "metadata": {},
   "outputs": [],
   "source": [
    "class LinkedList:\n",
    "    def __init__(self):\n",
    "        self.head = None\n",
    "        self.tail = None\n",
    "        \n",
    "    def push(self, data):\n",
    "        new_node = Node(data)\n",
    "        new_node.next = self.head\n",
    "        self.head = new_node\n",
    "            \n",
    "    def append(self, data):\n",
    "        pass\n",
    "    \n",
    "    def insert_after(self, target, data):\n",
    "        new_node = Node(data)\n",
    "        if self.head.data == target:\n",
    "            temp = self.head.next\n",
    "            self.head.next = new_node\n",
    "            new_node.next = temp\n",
    "        temp = self.head\n",
    "        \n",
    "        while (temp.data != target and temp !=None):\n",
    "            temp = temp.next\n",
    "            \n",
    "        if temp == None:\n",
    "            raise ValueError(\"The target value isn't in the list.\")\n",
    "        placeholder = temp.next\n",
    "        temp.next = new_node\n",
    "        new_node.next = placeholder\n",
    "        \n",
    "    def remove(self, data):\n",
    "        pass"
   ]
  }
 ],
 "metadata": {
  "kernelspec": {
   "display_name": "Python 3",
   "language": "python",
   "name": "python3"
  },
  "language_info": {
   "codemirror_mode": {
    "name": "ipython",
    "version": 3
   },
   "file_extension": ".py",
   "mimetype": "text/x-python",
   "name": "python",
   "nbconvert_exporter": "python",
   "pygments_lexer": "ipython3",
   "version": "3.7.3"
  }
 },
 "nbformat": 4,
 "nbformat_minor": 5
}
