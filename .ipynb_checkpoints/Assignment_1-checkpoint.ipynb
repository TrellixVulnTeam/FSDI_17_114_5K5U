{
 "cells": [
  {
   "cell_type": "markdown",
   "id": "8af60e00",
   "metadata": {},
   "source": [
    "# Problem 1\n",
    "### Given two strings (string_a and string_b) lets check whether or not they are anagrams of each other given the following criteria:\n",
    "> Two strings are only anagrams of each other if all conditions below are met:\n",
    "> * They must be exactly the same legnth.\n",
    "> * They must use exactly the same characters (no more, no less).\n",
    "Example: cars and scar, heart and earth, etc.\n"
   ]
  },
  {
   "cell_type": "code",
   "execution_count": 91,
   "id": "58e3074b",
   "metadata": {},
   "outputs": [],
   "source": [
    "def is_anagram(str_1, str_2):\n",
    "    string_1 = str_1.replace(\" \", \"\")\n",
    "    string_2 = str_2.replace(\" \", \"\")\n",
    "        \n",
    "    if len(string_1) is not len(string_2):\n",
    "        return False\n",
    "    str_a = string_1.lower()\n",
    "    str_b = string_2.lower()\n",
    "    string_a = dict()\n",
    "    string_b = dict()\n",
    "    \n",
    "    for i in range(len(str_a)):\n",
    "        if str_a[i] not in string_a.keys():\n",
    "            string_a[str_a[i]] = 0\n",
    "        else:\n",
    "            string_a[str_a[i]] += 1\n",
    "            \n",
    "        if str_b[i] not in string_b.keys():\n",
    "            string_b[str_b[i]] = 0\n",
    "        else:\n",
    "            string_b[str_b[i]] += 1\n",
    "    return string_a == string_b"
   ]
  },
  {
   "cell_type": "code",
   "execution_count": 99,
   "id": "b692dc44",
   "metadata": {},
   "outputs": [
    {
     "data": {
      "text/plain": [
       "True"
      ]
     },
     "execution_count": 99,
     "metadata": {},
     "output_type": "execute_result"
    }
   ],
   "source": [
    "is_anagram(\"TesT\", \"Stet\")"
   ]
  },
  {
   "cell_type": "code",
   "execution_count": 102,
   "id": "7db86b18",
   "metadata": {},
   "outputs": [
    {
     "data": {
      "text/plain": [
       "True"
      ]
     },
     "execution_count": 102,
     "metadata": {},
     "output_type": "execute_result"
    }
   ],
   "source": [
    "is_anagram(\"T e s T\", \"S t e t\")"
   ]
  },
  {
   "cell_type": "code",
   "execution_count": 103,
   "id": "678cbd15",
   "metadata": {},
   "outputs": [
    {
     "data": {
      "text/plain": [
       "False"
      ]
     },
     "execution_count": 103,
     "metadata": {},
     "output_type": "execute_result"
    }
   ],
   "source": [
    "is_anagram(\"sccr\", \"scar\")"
   ]
  },
  {
   "cell_type": "code",
   "execution_count": 104,
   "id": "502be507",
   "metadata": {},
   "outputs": [
    {
     "data": {
      "text/plain": [
       "True"
      ]
     },
     "execution_count": 104,
     "metadata": {},
     "output_type": "execute_result"
    }
   ],
   "source": [
    "is_anagram(\"I am lord Voldemort\", \"Tom Marvolo Riddle\")"
   ]
  },
  {
   "cell_type": "code",
   "execution_count": 98,
   "id": "5db9af4f",
   "metadata": {},
   "outputs": [
    {
     "data": {
      "text/plain": [
       "False"
      ]
     },
     "execution_count": 98,
     "metadata": {},
     "output_type": "execute_result"
    }
   ],
   "source": [
    "is_anagram(\"heart\", \"scar\")"
   ]
  },
  {
   "cell_type": "code",
   "execution_count": null,
   "id": "6fa52eaf",
   "metadata": {},
   "outputs": [],
   "source": []
  }
 ],
 "metadata": {
  "kernelspec": {
   "display_name": "Python 3",
   "language": "python",
   "name": "python3"
  },
  "language_info": {
   "codemirror_mode": {
    "name": "ipython",
    "version": 3
   },
   "file_extension": ".py",
   "mimetype": "text/x-python",
   "name": "python",
   "nbconvert_exporter": "python",
   "pygments_lexer": "ipython3",
   "version": "3.7.3"
  }
 },
 "nbformat": 4,
 "nbformat_minor": 5
}
