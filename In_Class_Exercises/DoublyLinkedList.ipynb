{
 "cells": [
  {
   "cell_type": "code",
   "execution_count": 11,
   "id": "d055aef4",
   "metadata": {},
   "outputs": [
    {
     "name": "stdout",
     "output_type": "stream",
     "text": [
      "Requirement already satisfied: blockdiag in ./venv/lib/python3.7/site-packages (2.0.1)\r\n",
      "Requirement already satisfied: funcparserlib in ./venv/lib/python3.7/site-packages (from blockdiag) (0.3.6)\r\n",
      "Requirement already satisfied: Pillow>3.0 in ./venv/lib/python3.7/site-packages (from blockdiag) (8.2.0)\r\n",
      "Requirement already satisfied: setuptools in ./venv/lib/python3.7/site-packages (from blockdiag) (40.8.0)\r\n",
      "Requirement already satisfied: webcolors in ./venv/lib/python3.7/site-packages (from blockdiag) (1.11.1)\r\n"
     ]
    }
   ],
   "source": [
    "!pip install blockdiag"
   ]
  },
  {
   "cell_type": "code",
   "execution_count": 12,
   "id": "c989e8a4",
   "metadata": {},
   "outputs": [
    {
     "name": "stdout",
     "output_type": "stream",
     "text": [
      "mkdir: cannot create directory ‘diagrams’: File exists\r\n"
     ]
    }
   ],
   "source": [
    "!mkdir diagrams"
   ]
  },
  {
   "cell_type": "code",
   "execution_count": 32,
   "id": "0f2fb750",
   "metadata": {},
   "outputs": [
    {
     "name": "stdout",
     "output_type": "stream",
     "text": [
      "Overwriting diagrams/block_diagram\n"
     ]
    }
   ],
   "source": [
    "%%file diagrams/block_diagram\n",
    "blockdiag {\n",
    "  // Define class (list of attributes)\n",
    "  class emphasis [color = lightblue, style = dashed];\n",
    "  class redline [color = red, style = dotted];\n",
    "\n",
    "  object1 -> Transform -> Load -> object2 -> Transform2 -> Load2;\n",
    "\n",
    "  // Set class to node\n",
    "  Transform [class = \"emphasis\"];\n",
    "\n",
    "  // Set class to edge\n",
    "  Transform -> Load [class = \"redline\"];\n",
    "}"
   ]
  },
  {
   "cell_type": "code",
   "execution_count": 33,
   "id": "73edf54e",
   "metadata": {},
   "outputs": [],
   "source": [
    "!blockdiag diagrams/block_diagram"
   ]
  },
  {
   "cell_type": "code",
   "execution_count": 34,
   "id": "4441bbb9",
   "metadata": {},
   "outputs": [
    {
     "data": {
      "image/png": "[encoded data removed]",
      "text/plain": [
       "<IPython.core.display.Image object>"
      ]
     },
     "execution_count": 34,
     "metadata": {},
     "output_type": "execute_result"
    }
   ],
   "source": [
    "from IPython.display import Image\n",
    "Image(\"diagrams/block_diagram.png\")"
   ]
  },
  {
   "cell_type": "code",
   "execution_count": 17,
   "id": "dc845055",
   "metadata": {},
   "outputs": [],
   "source": [
    "class DNode:\n",
    "    def __init__(self, data):\n",
    "        self.data = data\n",
    "        self.next = None\n",
    "        self.prev = None"
   ]
  },
  {
   "cell_type": "code",
   "execution_count": 1,
   "id": "dc58a4b2",
   "metadata": {},
   "outputs": [
    {
     "ename": "IndentationError",
     "evalue": "unexpected indent (<ipython-input-1-ff6c35d37365>, line 44)",
     "output_type": "error",
     "traceback": [
      "\u001b[0;36m  File \u001b[0;32m\"<ipython-input-1-ff6c35d37365>\"\u001b[0;36m, line \u001b[0;32m44\u001b[0m\n\u001b[0;31m    while (current_node.next):\u001b[0m\n\u001b[0m    ^\u001b[0m\n\u001b[0;31mIndentationError\u001b[0m\u001b[0;31m:\u001b[0m unexpected indent\n"
     ]
    }
   ],
   "source": [
    "class DoublyLinkedList:\n",
    "    def __init__(self):\n",
    "        self.head = None\n",
    "        self.tail = None\n",
    "        \n",
    "    def __len__(self):\n",
    "        if not self.head:\n",
    "            return 0\n",
    "        current = self.head\n",
    "        counter = 1\n",
    "        while(current):\n",
    "            current = current.next\n",
    "            counter +=1\n",
    "        return counter\n",
    "    \n",
    "    def mean(self):\n",
    "        current = self.head\n",
    "        current_sum = 0\n",
    "        while(current):\n",
    "            current_sum += current.data\n",
    "            current = current.next\n",
    "        return current_sum/len(self) # or self.__len__()\n",
    "    \n",
    "    def total(self):\n",
    "        current = self.head\n",
    "        current_sum = 0\n",
    "        while(current):\n",
    "            current_sum += current.data\n",
    "            current = current.next\n",
    "        return current_sum\n",
    "    \n",
    "    def insert_after(self, target, data):\n",
    "        pass\n",
    "    def insert_before(self, target, data):\n",
    "        pass\n",
    "    def prepend(self, data):\n",
    "        new_node = DNode(data)\n",
    "        if self.head == None:\n",
    "            self.head = new_node.data\n",
    "            return\n",
    "        new_node.next = self.head\n",
    "        new_node.next.prev = new_node.data\n",
    "        \n",
    "        \n",
    "    def append(self, data):\n",
    "        new_node = DNode(data)\n",
    "        if not self.head:\n",
    "            self.head = new_node\n",
    "            self.tail = new_node\n",
    "        else:\n",
    "            if not self.tail:\n",
    "                self.set_tail()\n",
    "\n",
    "            new_node.prev = self.tail\n",
    "            self.tail.next = new_node\n",
    "            self.tail = new_node\n",
    "        \n",
    "    def set_tail():\n",
    "        current_node = self.head\n",
    "            while (current_node.next):\n",
    "                current_node = current_node.next\n",
    "            self.tail = current_node\n",
    "            \n",
    "    def index_of(self, target):\n",
    "        counter = 0\n",
    "        current = self.head \n",
    "        while(current and current.data != target):\n",
    "            current = current.next\n",
    "            counter += 1\n",
    "        if current == None:\n",
    "            raise ValueError(\"Target: %s not found in list\" % target)\n",
    "        return counter\n",
    "    \n",
    "    def remove(self, target):\n",
    "        pass"
   ]
  },
  {
   "cell_type": "code",
   "execution_count": null,
   "id": "0d28adf5",
   "metadata": {},
   "outputs": [],
   "source": []
  },
  {
   "cell_type": "code",
   "execution_count": null,
   "id": "b3707b0d",
   "metadata": {},
   "outputs": [],
   "source": []
  },
  {
   "cell_type": "code",
   "execution_count": null,
   "id": "915d8392",
   "metadata": {},
   "outputs": [],
   "source": []
  },
  {
   "cell_type": "code",
   "execution_count": 20,
   "id": "4f2e3ad7",
   "metadata": {},
   "outputs": [
    {
     "name": "stdout",
     "output_type": "stream",
     "text": [
      "<__main__.DoublyLinkedList object at 0x79e3c432ac50>\n"
     ]
    }
   ],
   "source": [
    "newList = DoublyLinkedList()\n",
    "newList.prepend(100)\n",
    "print(newList)"
   ]
  },
  {
   "cell_type": "code",
   "execution_count": 22,
   "id": "4a982f1d",
   "metadata": {},
   "outputs": [
    {
     "ename": "AttributeError",
     "evalue": "'int' object has no attribute 'prev'",
     "output_type": "error",
     "traceback": [
      "\u001b[0;31m---------------------------------------------------------------------------\u001b[0m",
      "\u001b[0;31mAttributeError\u001b[0m                            Traceback (most recent call last)",
      "\u001b[0;32m<ipython-input-22-f7b8b8234fb3>\u001b[0m in \u001b[0;36m<module>\u001b[0;34m\u001b[0m\n\u001b[0;32m----> 1\u001b[0;31m \u001b[0mnewList\u001b[0m\u001b[0;34m.\u001b[0m\u001b[0mprepend\u001b[0m\u001b[0;34m(\u001b[0m\u001b[0;36m100\u001b[0m\u001b[0;34m)\u001b[0m\u001b[0;34m\u001b[0m\u001b[0;34m\u001b[0m\u001b[0m\n\u001b[0m\u001b[1;32m      2\u001b[0m \u001b[0mprint\u001b[0m\u001b[0;34m(\u001b[0m\u001b[0mnewList\u001b[0m\u001b[0;34m)\u001b[0m\u001b[0;34m\u001b[0m\u001b[0;34m\u001b[0m\u001b[0m\n",
      "\u001b[0;32m<ipython-input-19-68ed1c845bb3>\u001b[0m in \u001b[0;36mprepend\u001b[0;34m(self, data)\u001b[0m\n\u001b[1;32m     13\u001b[0m             \u001b[0;32mreturn\u001b[0m\u001b[0;34m\u001b[0m\u001b[0;34m\u001b[0m\u001b[0m\n\u001b[1;32m     14\u001b[0m         \u001b[0mnew_node\u001b[0m\u001b[0;34m.\u001b[0m\u001b[0mnext\u001b[0m \u001b[0;34m=\u001b[0m \u001b[0mself\u001b[0m\u001b[0;34m.\u001b[0m\u001b[0mhead\u001b[0m\u001b[0;34m\u001b[0m\u001b[0;34m\u001b[0m\u001b[0m\n\u001b[0;32m---> 15\u001b[0;31m         \u001b[0mnew_node\u001b[0m\u001b[0;34m.\u001b[0m\u001b[0mnext\u001b[0m\u001b[0;34m.\u001b[0m\u001b[0mprev\u001b[0m \u001b[0;34m=\u001b[0m \u001b[0mnew_node\u001b[0m\u001b[0;34m.\u001b[0m\u001b[0mdata\u001b[0m\u001b[0;34m\u001b[0m\u001b[0;34m\u001b[0m\u001b[0m\n\u001b[0m\u001b[1;32m     16\u001b[0m     \u001b[0;32mdef\u001b[0m \u001b[0mappend\u001b[0m\u001b[0;34m(\u001b[0m\u001b[0mself\u001b[0m\u001b[0;34m,\u001b[0m \u001b[0mdata\u001b[0m\u001b[0;34m)\u001b[0m\u001b[0;34m:\u001b[0m\u001b[0;34m\u001b[0m\u001b[0;34m\u001b[0m\u001b[0m\n\u001b[1;32m     17\u001b[0m         \u001b[0mnew_node\u001b[0m \u001b[0;34m=\u001b[0m \u001b[0mDNode\u001b[0m\u001b[0;34m(\u001b[0m\u001b[0mdata\u001b[0m\u001b[0;34m)\u001b[0m\u001b[0;34m\u001b[0m\u001b[0;34m\u001b[0m\u001b[0m\n",
      "\u001b[0;31mAttributeError\u001b[0m: 'int' object has no attribute 'prev'"
     ]
    }
   ],
   "source": [
    "newList.prepend(100)\n",
    "print(newList)"
   ]
  },
  {
   "cell_type": "code",
   "execution_count": null,
   "id": "d36a5ca6",
   "metadata": {},
   "outputs": [],
   "source": []
  }
 ],
 "metadata": {
  "kernelspec": {
   "display_name": "Python 3",
   "language": "python",
   "name": "python3"
  },
  "language_info": {
   "codemirror_mode": {
    "name": "ipython",
    "version": 3
   },
   "file_extension": ".py",
   "mimetype": "text/x-python",
   "name": "python",
   "nbconvert_exporter": "python",
   "pygments_lexer": "ipython3",
   "version": "3.7.3"
  }
 },
 "nbformat": 4,
 "nbformat_minor": 5
}
