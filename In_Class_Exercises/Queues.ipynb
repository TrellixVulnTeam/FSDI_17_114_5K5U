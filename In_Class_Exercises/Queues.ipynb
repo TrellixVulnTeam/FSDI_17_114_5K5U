{
 "cells": [
  {
   "cell_type": "code",
   "execution_count": 4,
   "id": "9886ad4b",
   "metadata": {},
   "outputs": [],
   "source": [
    "class Stack:\n",
    "    def __init__(self):\n",
    "        self.items = []\n",
    "    def is_empty(self):\n",
    "        return self.items == []\n",
    "    def push(self, item):\n",
    "        self.items.append(item)\n",
    "    def pop(self):\n",
    "        return self.items.pop()\n",
    "    def peek(self):\n",
    "        return self.items[len(self.items)-1]\n",
    "    def size(self):\n",
    "        return len(self.items)"
   ]
  },
  {
   "cell_type": "code",
   "execution_count": null,
   "id": "56dcdc32",
   "metadata": {},
   "outputs": [],
   "source": [
    "def reverse_str(s):\n",
    "    # Must use the stack class above.\n",
    "    stack = Stack()\n",
    "    # iterate and push to stack\n",
    "    for char in s:\n",
    "        stack.push(char)\n",
    "    \n",
    "    # while stack is not empty pop and append to list\n",
    "    collector = \"\"\n",
    "    while not stack.is_empty():\n",
    "        collector += stack.pop()\n",
    "        \n",
    "    sReversed = \"\".join(collector)\n",
    "    print(sReversed)\n",
    "    return sReversed\n",
    "        \n"
   ]
  },
  {
   "cell_type": "code",
   "execution_count": null,
   "id": "8a873395",
   "metadata": {},
   "outputs": [],
   "source": [
    "def test_reverse_str():\n",
    "    assert reverse_str(\"racecar\") == reverse_str(\"racecar\")\n",
    "    assert reverse_str(\"SDGKU\") == reverse_str(\"UKGDS\")\n",
    "    assert reverse_str(\"ping pong\") == reverse_str(\"gnop gnip\")"
   ]
  },
  {
   "cell_type": "code",
   "execution_count": 3,
   "id": "57b76716",
   "metadata": {},
   "outputs": [],
   "source": [
    "class Queue:\n",
    "    def __init__(self):\n",
    "        self.items = []\n",
    "        \n",
    "    def is_empty(self):\n",
    "        return self.items == []\n",
    "    def enqueue(self, item):\n",
    "        self.items.insert(0,item)\n",
    "        \n",
    "    def dequeue(self):\n",
    "        return self.items.pop()\n",
    "    def peek(self):\n",
    "        return self.items[len(self.items)]-1\n",
    "    def size(self):\n",
    "        return len(self.items)\n",
    "    "
   ]
  },
  {
   "cell_type": "code",
   "execution_count": 1,
   "id": "76ebf882",
   "metadata": {},
   "outputs": [],
   "source": [
    "from string import ascii_lowercase\n",
    "from random import randint, choice\n",
    "from time import sleep\n",
    "\n",
    "def register_visitors(visitor_queue):\n",
    "    for char in ascii_lowercase:\n",
    "        visitor_queue.enqueue(char)\n",
    "    \n",
    "def service_customers(visitor_queue):\n",
    "    bank_tellers = [\"A\", \"B\", \"C\", \"D\", \"E\", \"F\", \"G\"]\n",
    "    while not visitor_queue.is_empty():\n",
    "        visitor = visitor_queue.dequeue()\n",
    "        print(\"Thank you for waiting %s, station %s is ready for you.\" % (visitor, choice(bank_tellers)))\n",
    "        sleep(randint(1,2))\n",
    "    print(\"Empty visitor queue.\")\n",
    "def main():\n",
    "    visitor_queue = Queue()\n",
    "    register_visitors(visitor_queue)\n",
    "    service_customers(visitor_queue)\n"
   ]
  },
  {
   "cell_type": "code",
   "execution_count": 2,
   "id": "ac9e78cc",
   "metadata": {},
   "outputs": [
    {
     "ename": "NameError",
     "evalue": "name 'Queue' is not defined",
     "output_type": "error",
     "traceback": [
      "\u001b[0;31m---------------------------------------------------------------------------\u001b[0m",
      "\u001b[0;31mNameError\u001b[0m                                 Traceback (most recent call last)",
      "\u001b[0;32m<ipython-input-2-263240bbee7e>\u001b[0m in \u001b[0;36m<module>\u001b[0;34m\u001b[0m\n\u001b[0;32m----> 1\u001b[0;31m \u001b[0mmain\u001b[0m\u001b[0;34m(\u001b[0m\u001b[0;34m)\u001b[0m\u001b[0;34m\u001b[0m\u001b[0;34m\u001b[0m\u001b[0m\n\u001b[0m",
      "\u001b[0;32m<ipython-input-1-7a5883935343>\u001b[0m in \u001b[0;36mmain\u001b[0;34m()\u001b[0m\n\u001b[1;32m     15\u001b[0m     \u001b[0mprint\u001b[0m\u001b[0;34m(\u001b[0m\u001b[0;34m\"Empty visitor queue.\"\u001b[0m\u001b[0;34m)\u001b[0m\u001b[0;34m\u001b[0m\u001b[0;34m\u001b[0m\u001b[0m\n\u001b[1;32m     16\u001b[0m \u001b[0;32mdef\u001b[0m \u001b[0mmain\u001b[0m\u001b[0;34m(\u001b[0m\u001b[0;34m)\u001b[0m\u001b[0;34m:\u001b[0m\u001b[0;34m\u001b[0m\u001b[0;34m\u001b[0m\u001b[0m\n\u001b[0;32m---> 17\u001b[0;31m     \u001b[0mvisitor_queue\u001b[0m \u001b[0;34m=\u001b[0m \u001b[0mQueue\u001b[0m\u001b[0;34m(\u001b[0m\u001b[0;34m)\u001b[0m\u001b[0;34m\u001b[0m\u001b[0;34m\u001b[0m\u001b[0m\n\u001b[0m\u001b[1;32m     18\u001b[0m     \u001b[0mregister_visitors\u001b[0m\u001b[0;34m(\u001b[0m\u001b[0mvisitor_queue\u001b[0m\u001b[0;34m)\u001b[0m\u001b[0;34m\u001b[0m\u001b[0;34m\u001b[0m\u001b[0m\n\u001b[1;32m     19\u001b[0m     \u001b[0mservice_customers\u001b[0m\u001b[0;34m(\u001b[0m\u001b[0mvisitor_queue\u001b[0m\u001b[0;34m)\u001b[0m\u001b[0;34m\u001b[0m\u001b[0;34m\u001b[0m\u001b[0m\n",
      "\u001b[0;31mNameError\u001b[0m: name 'Queue' is not defined"
     ]
    }
   ],
   "source": [
    "main()"
   ]
  },
  {
   "cell_type": "code",
   "execution_count": 3,
   "id": "a3404f44",
   "metadata": {},
   "outputs": [],
   "source": [
    "def balance_check(s):\n",
    "    if len(s) % 2 != 0:\n",
    "        return False\n",
    "    opening = set(\"([{\")\n",
    "    matches = set([(\"(\",\")\"), (\"[\", \"]\"), (\"{\", \"}\")])\n",
    "    stack = Stack()\n",
    "    for paren in s:\n",
    "        if paren in opening:\n",
    "            stack.push(paren)\n",
    "        else:\n",
    "            if stack.is_empty():\n",
    "                return False\n",
    "            last_open = stack.pop()\n",
    "            if (last_open, paren) not in matches:\n",
    "                return False\n",
    "    return stack.is_empty()\n",
    "    "
   ]
  },
  {
   "cell_type": "code",
   "execution_count": 4,
   "id": "afdf65b1",
   "metadata": {},
   "outputs": [
    {
     "ename": "NameError",
     "evalue": "name 'Stack' is not defined",
     "output_type": "error",
     "traceback": [
      "\u001b[0;31m---------------------------------------------------------------------------\u001b[0m",
      "\u001b[0;31mNameError\u001b[0m                                 Traceback (most recent call last)",
      "\u001b[0;32m<ipython-input-4-0f96794a3342>\u001b[0m in \u001b[0;36m<module>\u001b[0;34m\u001b[0m\n\u001b[0;32m----> 1\u001b[0;31m \u001b[0mbalance_check\u001b[0m\u001b[0;34m(\u001b[0m\u001b[0;34m\"[]{{{}}}\"\u001b[0m\u001b[0;34m)\u001b[0m\u001b[0;34m\u001b[0m\u001b[0;34m\u001b[0m\u001b[0m\n\u001b[0m",
      "\u001b[0;32m<ipython-input-3-f8b37929aacf>\u001b[0m in \u001b[0;36mbalance_check\u001b[0;34m(s)\u001b[0m\n\u001b[1;32m      4\u001b[0m     \u001b[0mopening\u001b[0m \u001b[0;34m=\u001b[0m \u001b[0mset\u001b[0m\u001b[0;34m(\u001b[0m\u001b[0;34m\"([{\"\u001b[0m\u001b[0;34m)\u001b[0m\u001b[0;34m\u001b[0m\u001b[0;34m\u001b[0m\u001b[0m\n\u001b[1;32m      5\u001b[0m     \u001b[0mmatches\u001b[0m \u001b[0;34m=\u001b[0m \u001b[0mset\u001b[0m\u001b[0;34m(\u001b[0m\u001b[0;34m[\u001b[0m\u001b[0;34m(\u001b[0m\u001b[0;34m\"(\"\u001b[0m\u001b[0;34m,\u001b[0m\u001b[0;34m\")\"\u001b[0m\u001b[0;34m)\u001b[0m\u001b[0;34m,\u001b[0m \u001b[0;34m(\u001b[0m\u001b[0;34m\"[\"\u001b[0m\u001b[0;34m,\u001b[0m \u001b[0;34m\"]\"\u001b[0m\u001b[0;34m)\u001b[0m\u001b[0;34m,\u001b[0m \u001b[0;34m(\u001b[0m\u001b[0;34m\"{\"\u001b[0m\u001b[0;34m,\u001b[0m \u001b[0;34m\"}\"\u001b[0m\u001b[0;34m)\u001b[0m\u001b[0;34m]\u001b[0m\u001b[0;34m)\u001b[0m\u001b[0;34m\u001b[0m\u001b[0;34m\u001b[0m\u001b[0m\n\u001b[0;32m----> 6\u001b[0;31m     \u001b[0mstack\u001b[0m \u001b[0;34m=\u001b[0m \u001b[0mStack\u001b[0m\u001b[0;34m(\u001b[0m\u001b[0;34m)\u001b[0m\u001b[0;34m\u001b[0m\u001b[0;34m\u001b[0m\u001b[0m\n\u001b[0m\u001b[1;32m      7\u001b[0m     \u001b[0;32mfor\u001b[0m \u001b[0mparen\u001b[0m \u001b[0;32min\u001b[0m \u001b[0ms\u001b[0m\u001b[0;34m:\u001b[0m\u001b[0;34m\u001b[0m\u001b[0;34m\u001b[0m\u001b[0m\n\u001b[1;32m      8\u001b[0m         \u001b[0;32mif\u001b[0m \u001b[0mparen\u001b[0m \u001b[0;32min\u001b[0m \u001b[0mopening\u001b[0m\u001b[0;34m:\u001b[0m\u001b[0;34m\u001b[0m\u001b[0;34m\u001b[0m\u001b[0m\n",
      "\u001b[0;31mNameError\u001b[0m: name 'Stack' is not defined"
     ]
    }
   ],
   "source": [
    "balance_check(\"[]{{{}}}\")"
   ]
  },
  {
   "cell_type": "code",
   "execution_count": 1,
   "id": "54098ceb",
   "metadata": {},
   "outputs": [],
   "source": [
    "# Classs two assignment two\n",
    "class Queue2Stacks:\n",
    "    def __init__(self):\n",
    "        # two stacks\n",
    "        self.instack = []\n",
    "        self.outstack = []\n",
    "        \n",
    "    def enqueue(self, element):\n",
    "        # Fill out code here\n",
    "        self.instack.append(element)\n",
    "        \n",
    "    def dequeue(self, element):\n",
    "        if not self.outstack:\n",
    "            # add the elements to the outstack to reverse the order when called\n",
    "            self.outstack.append(self.instack.pop())\n",
    "        return self.outstack.pop()\n",
    "    \n",
    "        "
   ]
  },
  {
   "cell_type": "code",
   "execution_count": null,
   "id": "3a2c9dd1",
   "metadata": {},
   "outputs": [],
   "source": [
    "def test():\n",
    "    q = Queue2Stacks()\n",
    "    for i in range(5):\n",
    "        q.enqueue(i)\n",
    "    for i in range(5):\n",
    "        print(q.dequeue())"
   ]
  },
  {
   "cell_type": "code",
   "execution_count": 13,
   "id": "f4ebce08",
   "metadata": {},
   "outputs": [],
   "source": [
    "def factorial(num):\n",
    "    if num == 0:\n",
    "        return 1\n",
    "    else:\n",
    "        res = num * factorial(num-1)\n",
    "        return res\n"
   ]
  },
  {
   "cell_type": "code",
   "execution_count": 14,
   "id": "a38115ee",
   "metadata": {},
   "outputs": [
    {
     "name": "stdout",
     "output_type": "stream",
     "text": [
      "120\n"
     ]
    }
   ],
   "source": [
    "print(factorial(5))"
   ]
  },
  {
   "cell_type": "code",
   "execution_count": 26,
   "id": "a09b6035",
   "metadata": {},
   "outputs": [],
   "source": [
    "from functools import lru_cache # demostrating memoization\n",
    "\n",
    "@lru_cache(None)\n",
    "def fibonacci(num):\n",
    "    if num < 2:\n",
    "        return num\n",
    "    return fibonacci(num-1) + fibonacci(num-2)\n",
    "    "
   ]
  },
  {
   "cell_type": "code",
   "execution_count": 27,
   "id": "cb10910e",
   "metadata": {},
   "outputs": [
    {
     "name": "stdout",
     "output_type": "stream",
     "text": [
      "354224848179261915075\n"
     ]
    }
   ],
   "source": [
    "print(fibonacci(100))"
   ]
  },
  {
   "cell_type": "code",
   "execution_count": 29,
   "id": "131bcdc3",
   "metadata": {},
   "outputs": [
    {
     "name": "stdout",
     "output_type": "stream",
     "text": [
      "1\n"
     ]
    }
   ],
   "source": [
    "def funct_constant(values):\n",
    "    print(values[0])\n",
    "    \n",
    "funct_constant([1,2,3])"
   ]
  },
  {
   "cell_type": "code",
   "execution_count": null,
   "id": "4d0f1447",
   "metadata": {},
   "outputs": [],
   "source": [
    "class Node:\n",
    "    def __init__(self, data):\n",
    "        self.data = data\n",
    "        self.next = None\n",
    "        "
   ]
  },
  {
   "cell_type": "code",
   "execution_count": 2,
   "id": "d9e7d7a7",
   "metadata": {},
   "outputs": [],
   "source": [
    "class LinkedList:\n",
    "    def __init__(self):\n",
    "        self.head = None\n",
    "        self.tail = None\n",
    "        \n",
    "    def prepend(self, data):\n",
    "        # step 1: create a new node with \"data\"\n",
    "        new_node = Node(data)\n",
    "        # step 2: create a local reference to \"head of our list, head\"\n",
    "        current_head = self.head\n",
    "        # step 3: make self.head point to our new node:\n",
    "        self.head = new_node\n",
    "        new_node.next = current_head\n",
    "        \n",
    "    def append(self, data):\n",
    "        new_node = Node(data)\n",
    "        if not self.tail:\n",
    "            # start at the head of the list:\n",
    "            current_node = self.head# make our way to the end of the list:\n",
    "            while (current_node.next):\n",
    "                current_node = current_node.next\n",
    "            # once we find the last node, update self.tail:\n",
    "            self.tail = current_node\n",
    "        # step 3: add new_node to self.tail.next\n",
    "        self.tail.next = new_node\n",
    "        # step 4 update the reference to tail\n",
    "        self.tail = new_node\n",
    "        \n",
    "    def insert_after(self, target, data):\n",
    "        # step 1: create a new node from data\n",
    "        new_node = Node(data)\n",
    "        \n",
    "        # step 2: check if target data exists at head node:\n",
    "        if self.head.data == target:\n",
    "            # store reference of next node in list in temp\n",
    "            temp = self.head.next\n",
    "            # updating the refernce to the second node with new_node:\n",
    "            self.head.next = new_node\n",
    "            # updating the next node after our new node to temp\n",
    "            new_node.next = temp\n",
    "            return True\n",
    "        \n",
    "        # Step 3: Keeping track of current node, starting with head:\n",
    "        current = self.head\n",
    "        # Loop until \"current\" contains the data we are looking for\n",
    "        # or until current is None\n",
    "        while (temp.data != target and temp !=None):\n",
    "            current = current.next\n",
    "        # if current is None at this point, we've traversed the entire list\n",
    "        # and have not found our target, so an error is triggered:\n",
    "        if current == None:\n",
    "            raise ValueError(\"The target value isn't in the list.\")\n",
    "        # step 4: Keeping tracak of the next node after current\n",
    "        placeholder = temp.next\n",
    "        # updating the next node after current\n",
    "        temp.next = new_node\n",
    "        # updating new_node's \"next\" to place holder\n",
    "        new_node.next = placeholder\n",
    "    \n",
    "    def remove(self, data):\n",
    "        # remove node if it is at the beginning (or head) of the list:\n",
    "        if self.head.data == target:\n",
    "            # update the reference to \"self.head\" to now point to self.head.next\n",
    "            # remove head of list, and update self.head\n",
    "            self.head = self.head.next\n",
    "            \n",
    "        else:\n",
    "            # Remove a node from anywhere else in the list:\n",
    "            current = self.head\n",
    "            while(current.data != target and current != None):\n",
    "                prev = current\n",
    "                current = current.next\n",
    "            # if current is None, we've reached the end of our list\n",
    "            # and we didnt find the target data:\n",
    "            if current == None:\n",
    "                raise ValueError(\"The target value isn't in the list.\")\n",
    "            # update currents previous nodes reference to next by setting\n",
    "            # it to point to the next node after current\n",
    "            prev.next = current.next\n",
    "            \n",
    "            # if prev.next is non it means it is the new tail of our list\n",
    "            # and thus, we update self.tail so as not to break our other implem that use it\n",
    "            if prev.next == None:\n",
    "                self.tail = prev\n",
    "                \n",
    "    def index_of(self, target):\n",
    "        # Given a target, find its position in our list (integer)\n",
    "        # if it does not exist, return None or raise an exception\n",
    "        counter = 0\n",
    "        # step 2: start at the head of our list\n",
    "        current = self.head\n",
    "        while (current.data != target and current != None):\n",
    "            current = current.next\n",
    "            counter += 1\n",
    "        if current == None:\n",
    "            raise ValueError(\"The target value isn't in the list.\")\n",
    "        # step 3: if the previous if statement isnt triggered, \n",
    "        # we have found our target node and can return counter\n",
    "        return counter\n",
    "    \n",
    "    def maxOf(self):\n",
    "        current = self.head\n",
    "        current_max = current.data\n",
    "        while (current.next):\n",
    "            current = current.next\n",
    "            if current.data > current_max:\n",
    "                current_max = current.data\n",
    "        return current_max\n",
    "            "
   ]
  },
  {
   "cell_type": "code",
   "execution_count": null,
   "id": "88670743",
   "metadata": {},
   "outputs": [],
   "source": [
    "class DNode:\n",
    "    def __init__(self, data):\n",
    "        self.data = data\n",
    "        self.next = None\n",
    "        self.prev = None\n",
    "    "
   ]
  },
  {
   "cell_type": "code",
   "execution_count": null,
   "id": "8a791482",
   "metadata": {},
   "outputs": [],
   "source": [
    "class DoublyLinkedList:\n",
    "    def __init__(self):\n",
    "        self.head = None\n",
    "        self.tail = None\n",
    "        \n",
    "    def insert_after(self, target, data):\n",
    "        # Create a new node with data and add it to our list after the node target\n",
    "        pass\n",
    "    \n",
    "    def insert_before(self, target, data):\n",
    "        # Create a new node with data and add it to our list after the node target\n",
    "        pass\n",
    "    def prepend(self, data):\n",
    "        # add a new node with data at the beginning of our list\n",
    "        pass\n",
    "    def append(self, data):\n",
    "        # add a new node with data at the end of our list\n",
    "        new_node = DNode(data)\n",
    "        new_node.next = self.head\n",
    "        self.head = new_node\n",
    "        if self.head.next not None:\n",
    "            self.head.next.prev = self.head\n",
    "        \n",
    "    def index_of(self, target):\n",
    "        # return the index of the node with target data,\n",
    "        # display or return an error message if not found\n",
    "        pass\n",
    "    def remove(self, target):\n",
    "        # find the node with target data and remove it from our list\n",
    "        # return or display an error message if not found\n",
    "        pass"
   ]
  }
 ],
 "metadata": {
  "kernelspec": {
   "display_name": "Python 3",
   "language": "python",
   "name": "python3"
  },
  "language_info": {
   "codemirror_mode": {
    "name": "ipython",
    "version": 3
   },
   "file_extension": ".py",
   "mimetype": "text/x-python",
   "name": "python",
   "nbconvert_exporter": "python",
   "pygments_lexer": "ipython3",
   "version": "3.7.3"
  }
 },
 "nbformat": 4,
 "nbformat_minor": 5
}
